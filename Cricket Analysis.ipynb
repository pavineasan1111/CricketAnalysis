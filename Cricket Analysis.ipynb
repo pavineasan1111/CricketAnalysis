{
 "cells": [
  {
   "cell_type": "code",
   "execution_count": null,
   "id": "34dd7cbc",
   "metadata": {},
   "outputs": [],
   "source": [
    "import pandas as pd\n",
    "import json"
   ]
  },
  {
   "cell_type": "code",
   "execution_count": null,
   "id": "bccb6fdd",
   "metadata": {},
   "outputs": [],
   "source": [
    "with open ('t20_json_files/t20_wc_match_results.json') as f:\n",
    "    data=json.load(f)\n",
    "    \n",
    "data\n",
    "df_match=pd.DataFrame(data[0]['matchSummary'])\n",
    "df_match.head()"
   ]
  },
  {
   "cell_type": "code",
   "execution_count": null,
   "id": "b18417bb",
   "metadata": {},
   "outputs": [],
   "source": [
    "match_ids_dict={}\n",
    "\n",
    "for index, row in df_match.iterrows():\n",
    "    key1=row['team1'] + ' Vs ' + row['team2']\n",
    "    key2=row['team2'] + ' Vs ' + row['team1']\n",
    "    \n",
    "    match_ids_dict[key1]=row[\"match_id\"]\n",
    "    match_ids_dict[key2]=row['match_id']\n",
    "    \n",
    "match_ids_dict"
   ]
  },
  {
   "cell_type": "code",
   "execution_count": null,
   "id": "ab37c77b",
   "metadata": {},
   "outputs": [],
   "source": [
    "for i,j in df_match.iterrows():\n",
    "    #print(type(j))\n",
    "    print(i,j)"
   ]
  },
  {
   "cell_type": "code",
   "execution_count": null,
   "id": "87253526",
   "metadata": {},
   "outputs": [],
   "source": [
    "'''pd.set_option('display.max_rows', None)\n",
    "pd.set_option('display.max_columns', None)\n",
    "\n",
    "print(df_match)'''\n"
   ]
  },
  {
   "cell_type": "code",
   "execution_count": null,
   "id": "d7f20ae3",
   "metadata": {},
   "outputs": [],
   "source": [
    "'''def rettuple(a,b,c):\n",
    "    return [c,b,a]\n",
    "res=rettuple(1,2,3)\n",
    "res.append(4)\n",
    "print(res)'''"
   ]
  },
  {
   "cell_type": "code",
   "execution_count": null,
   "id": "541fe490",
   "metadata": {},
   "outputs": [],
   "source": [
    "len(data)"
   ]
  },
  {
   "cell_type": "code",
   "execution_count": null,
   "id": "3e1664d9",
   "metadata": {},
   "outputs": [],
   "source": [
    "data[0]['matchSummary']"
   ]
  },
  {
   "cell_type": "code",
   "execution_count": null,
   "id": "55323cdb",
   "metadata": {},
   "outputs": [],
   "source": [
    "df_match.shape"
   ]
  },
  {
   "cell_type": "markdown",
   "id": "3d1031b2",
   "metadata": {},
   "source": [
    "# Rename scorecard"
   ]
  },
  {
   "cell_type": "code",
   "execution_count": null,
   "id": "46bf5e4d",
   "metadata": {},
   "outputs": [],
   "source": [
    "df_match.rename({'scorecard' : 'match_id'}, axis=1, inplace=True)"
   ]
  },
  {
   "cell_type": "code",
   "execution_count": null,
   "id": "ab252519",
   "metadata": {},
   "outputs": [],
   "source": [
    "df_match.head()"
   ]
  },
  {
   "cell_type": "code",
   "execution_count": null,
   "id": "b161d3f5",
   "metadata": {},
   "outputs": [],
   "source": [
    "df_match.rename({'match_id' : 'match_id1'}, axis=1, inplace=False)"
   ]
  },
  {
   "cell_type": "code",
   "execution_count": null,
   "id": "40871486",
   "metadata": {},
   "outputs": [],
   "source": [
    "df_match"
   ]
  },
  {
   "cell_type": "markdown",
   "id": "790a56d8",
   "metadata": {},
   "source": [
    "# batting summary"
   ]
  },
  {
   "cell_type": "code",
   "execution_count": null,
   "id": "ea9f506c",
   "metadata": {},
   "outputs": [],
   "source": [
    "with open ('t20_json_files/t20_wc_batting_summary.json') as f:\n",
    "    data=json.load(f)\n",
    "   \n",
    "    all_records=[]\n",
    "  \n",
    "    for rec in data:\n",
    "        all_records.extend(rec['battingSummary'])\n",
    "        \n",
    "all_records "
   ]
  },
  {
   "cell_type": "code",
   "execution_count": null,
   "id": "3b43f98a",
   "metadata": {},
   "outputs": [],
   "source": [
    "with open ('t20_json_files/t20_wc_batting_summary.json') as f:\n",
    "    data=json.load(f)\n",
    "   \n",
    "    all_records=[]\n",
    "  \n",
    "    for rec in data:\n",
    "        all_records.extend(rec['battingSummary'])\n",
    "        \n",
    "df_batting=pd.DataFrame(all_records)\n",
    "#df_match.tail()\n",
    "#df_match.head()\n",
    "df_batting.head(11)"
   ]
  },
  {
   "cell_type": "code",
   "execution_count": null,
   "id": "ceff362a",
   "metadata": {},
   "outputs": [],
   "source": [
    "with open ('t20_json_files/t20_wc_batting_summary.json') as f:\n",
    "    data=json.load(f)\n",
    "    \n",
    "data"
   ]
  },
  {
   "cell_type": "markdown",
   "id": "dedafc21",
   "metadata": {},
   "source": [
    "# adding column based on condition"
   ]
  },
  {
   "cell_type": "code",
   "execution_count": null,
   "id": "dd371832",
   "metadata": {},
   "outputs": [],
   "source": [
    "df_batting[\"out/not out\"]=df_batting.dismissal.apply(lambda x: \"out\" if len(x)>0 else \"not out\")\n",
    "df_batting.head()"
   ]
  },
  {
   "cell_type": "code",
   "execution_count": null,
   "id": "9d20e7ce",
   "metadata": {},
   "outputs": [],
   "source": [
    "df_batting.drop(columns=[\"dismissal\"], inplace=True)\n",
    "df_batting.head(11)"
   ]
  },
  {
   "cell_type": "markdown",
   "id": "fea7ed5c",
   "metadata": {},
   "source": [
    "# replacing particular value"
   ]
  },
  {
   "cell_type": "code",
   "execution_count": null,
   "id": "f1280f72",
   "metadata": {},
   "outputs": [],
   "source": [
    "df_batting[\"batsmanName\"]=df_batting[\"batsmanName\"].apply(lambda x: x.replace('â€', ''))\n",
    "df_batting.head(11)"
   ]
  },
  {
   "cell_type": "code",
   "execution_count": null,
   "id": "7980c220",
   "metadata": {},
   "outputs": [],
   "source": [
    "df_batting"
   ]
  },
  {
   "cell_type": "code",
   "execution_count": null,
   "id": "98c9cab7",
   "metadata": {},
   "outputs": [],
   "source": [
    "df_batting[\"match_id\"]=df_batting[\"match\"].map(match_ids_dict)\n",
    "\n",
    "#match_ids_dict(\"Namibia Vs Sri Lanka\")\n",
    "df_batting.head()"
   ]
  },
  {
   "cell_type": "code",
   "execution_count": null,
   "id": "6a566a47",
   "metadata": {},
   "outputs": [],
   "source": [
    "df_batting.to_csv('t20_csv_files/batting_summ.csv', index=False)"
   ]
  },
  {
   "cell_type": "code",
   "execution_count": null,
   "id": "377d2f6d",
   "metadata": {},
   "outputs": [],
   "source": []
  }
 ],
 "metadata": {
  "kernelspec": {
   "display_name": "Python 3 (ipykernel)",
   "language": "python",
   "name": "python3"
  },
  "language_info": {
   "codemirror_mode": {
    "name": "ipython",
    "version": 3
   },
   "file_extension": ".py",
   "mimetype": "text/x-python",
   "name": "python",
   "nbconvert_exporter": "python",
   "pygments_lexer": "ipython3",
   "version": "3.11.4"
  }
 },
 "nbformat": 4,
 "nbformat_minor": 5
}
